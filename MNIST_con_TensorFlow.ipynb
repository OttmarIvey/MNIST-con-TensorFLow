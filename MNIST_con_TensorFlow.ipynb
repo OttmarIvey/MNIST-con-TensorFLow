{
  "nbformat": 4,
  "nbformat_minor": 0,
  "metadata": {
    "colab": {
      "provenance": [],
      "authorship_tag": "ABX9TyNlsWi2b8KsER2n1YlcM91p",
      "include_colab_link": true
    },
    "kernelspec": {
      "name": "python3",
      "display_name": "Python 3"
    },
    "language_info": {
      "name": "python"
    },
    "widgets": {
      "application/vnd.jupyter.widget-state+json": {
        "782b0e3852db46249a234828af5475ee": {
          "model_module": "@jupyter-widgets/controls",
          "model_name": "HBoxModel",
          "model_module_version": "1.5.0",
          "state": {
            "_dom_classes": [],
            "_model_module": "@jupyter-widgets/controls",
            "_model_module_version": "1.5.0",
            "_model_name": "HBoxModel",
            "_view_count": null,
            "_view_module": "@jupyter-widgets/controls",
            "_view_module_version": "1.5.0",
            "_view_name": "HBoxView",
            "box_style": "",
            "children": [
              "IPY_MODEL_96938fe3bb0f41508db64f2d67c7461d",
              "IPY_MODEL_386e53aa08a541b7a6fd678f75ccac97",
              "IPY_MODEL_7c9fe190f2874070989745102a099c59"
            ],
            "layout": "IPY_MODEL_8837e6a8cf95475a914f9e572bb13671"
          }
        },
        "96938fe3bb0f41508db64f2d67c7461d": {
          "model_module": "@jupyter-widgets/controls",
          "model_name": "HTMLModel",
          "model_module_version": "1.5.0",
          "state": {
            "_dom_classes": [],
            "_model_module": "@jupyter-widgets/controls",
            "_model_module_version": "1.5.0",
            "_model_name": "HTMLModel",
            "_view_count": null,
            "_view_module": "@jupyter-widgets/controls",
            "_view_module_version": "1.5.0",
            "_view_name": "HTMLView",
            "description": "",
            "description_tooltip": null,
            "layout": "IPY_MODEL_122938c076324503821e98ad2705fc9f",
            "placeholder": "​",
            "style": "IPY_MODEL_d4d7a91764f24502ac802008ba639572",
            "value": "Dl Completed...: 100%"
          }
        },
        "386e53aa08a541b7a6fd678f75ccac97": {
          "model_module": "@jupyter-widgets/controls",
          "model_name": "FloatProgressModel",
          "model_module_version": "1.5.0",
          "state": {
            "_dom_classes": [],
            "_model_module": "@jupyter-widgets/controls",
            "_model_module_version": "1.5.0",
            "_model_name": "FloatProgressModel",
            "_view_count": null,
            "_view_module": "@jupyter-widgets/controls",
            "_view_module_version": "1.5.0",
            "_view_name": "ProgressView",
            "bar_style": "success",
            "description": "",
            "description_tooltip": null,
            "layout": "IPY_MODEL_a032043cbf43450695692c92489105f4",
            "max": 5,
            "min": 0,
            "orientation": "horizontal",
            "style": "IPY_MODEL_c8d67bb580474095955e73a5232a7b9b",
            "value": 5
          }
        },
        "7c9fe190f2874070989745102a099c59": {
          "model_module": "@jupyter-widgets/controls",
          "model_name": "HTMLModel",
          "model_module_version": "1.5.0",
          "state": {
            "_dom_classes": [],
            "_model_module": "@jupyter-widgets/controls",
            "_model_module_version": "1.5.0",
            "_model_name": "HTMLModel",
            "_view_count": null,
            "_view_module": "@jupyter-widgets/controls",
            "_view_module_version": "1.5.0",
            "_view_name": "HTMLView",
            "description": "",
            "description_tooltip": null,
            "layout": "IPY_MODEL_9cb62d39f0154cad93fbf0b9e1b01cad",
            "placeholder": "​",
            "style": "IPY_MODEL_166d2e0109224507ac982309b52b11a2",
            "value": " 5/5 [00:00&lt;00:00,  7.46 file/s]"
          }
        },
        "8837e6a8cf95475a914f9e572bb13671": {
          "model_module": "@jupyter-widgets/base",
          "model_name": "LayoutModel",
          "model_module_version": "1.2.0",
          "state": {
            "_model_module": "@jupyter-widgets/base",
            "_model_module_version": "1.2.0",
            "_model_name": "LayoutModel",
            "_view_count": null,
            "_view_module": "@jupyter-widgets/base",
            "_view_module_version": "1.2.0",
            "_view_name": "LayoutView",
            "align_content": null,
            "align_items": null,
            "align_self": null,
            "border": null,
            "bottom": null,
            "display": null,
            "flex": null,
            "flex_flow": null,
            "grid_area": null,
            "grid_auto_columns": null,
            "grid_auto_flow": null,
            "grid_auto_rows": null,
            "grid_column": null,
            "grid_gap": null,
            "grid_row": null,
            "grid_template_areas": null,
            "grid_template_columns": null,
            "grid_template_rows": null,
            "height": null,
            "justify_content": null,
            "justify_items": null,
            "left": null,
            "margin": null,
            "max_height": null,
            "max_width": null,
            "min_height": null,
            "min_width": null,
            "object_fit": null,
            "object_position": null,
            "order": null,
            "overflow": null,
            "overflow_x": null,
            "overflow_y": null,
            "padding": null,
            "right": null,
            "top": null,
            "visibility": null,
            "width": null
          }
        },
        "122938c076324503821e98ad2705fc9f": {
          "model_module": "@jupyter-widgets/base",
          "model_name": "LayoutModel",
          "model_module_version": "1.2.0",
          "state": {
            "_model_module": "@jupyter-widgets/base",
            "_model_module_version": "1.2.0",
            "_model_name": "LayoutModel",
            "_view_count": null,
            "_view_module": "@jupyter-widgets/base",
            "_view_module_version": "1.2.0",
            "_view_name": "LayoutView",
            "align_content": null,
            "align_items": null,
            "align_self": null,
            "border": null,
            "bottom": null,
            "display": null,
            "flex": null,
            "flex_flow": null,
            "grid_area": null,
            "grid_auto_columns": null,
            "grid_auto_flow": null,
            "grid_auto_rows": null,
            "grid_column": null,
            "grid_gap": null,
            "grid_row": null,
            "grid_template_areas": null,
            "grid_template_columns": null,
            "grid_template_rows": null,
            "height": null,
            "justify_content": null,
            "justify_items": null,
            "left": null,
            "margin": null,
            "max_height": null,
            "max_width": null,
            "min_height": null,
            "min_width": null,
            "object_fit": null,
            "object_position": null,
            "order": null,
            "overflow": null,
            "overflow_x": null,
            "overflow_y": null,
            "padding": null,
            "right": null,
            "top": null,
            "visibility": null,
            "width": null
          }
        },
        "d4d7a91764f24502ac802008ba639572": {
          "model_module": "@jupyter-widgets/controls",
          "model_name": "DescriptionStyleModel",
          "model_module_version": "1.5.0",
          "state": {
            "_model_module": "@jupyter-widgets/controls",
            "_model_module_version": "1.5.0",
            "_model_name": "DescriptionStyleModel",
            "_view_count": null,
            "_view_module": "@jupyter-widgets/base",
            "_view_module_version": "1.2.0",
            "_view_name": "StyleView",
            "description_width": ""
          }
        },
        "a032043cbf43450695692c92489105f4": {
          "model_module": "@jupyter-widgets/base",
          "model_name": "LayoutModel",
          "model_module_version": "1.2.0",
          "state": {
            "_model_module": "@jupyter-widgets/base",
            "_model_module_version": "1.2.0",
            "_model_name": "LayoutModel",
            "_view_count": null,
            "_view_module": "@jupyter-widgets/base",
            "_view_module_version": "1.2.0",
            "_view_name": "LayoutView",
            "align_content": null,
            "align_items": null,
            "align_self": null,
            "border": null,
            "bottom": null,
            "display": null,
            "flex": null,
            "flex_flow": null,
            "grid_area": null,
            "grid_auto_columns": null,
            "grid_auto_flow": null,
            "grid_auto_rows": null,
            "grid_column": null,
            "grid_gap": null,
            "grid_row": null,
            "grid_template_areas": null,
            "grid_template_columns": null,
            "grid_template_rows": null,
            "height": null,
            "justify_content": null,
            "justify_items": null,
            "left": null,
            "margin": null,
            "max_height": null,
            "max_width": null,
            "min_height": null,
            "min_width": null,
            "object_fit": null,
            "object_position": null,
            "order": null,
            "overflow": null,
            "overflow_x": null,
            "overflow_y": null,
            "padding": null,
            "right": null,
            "top": null,
            "visibility": null,
            "width": null
          }
        },
        "c8d67bb580474095955e73a5232a7b9b": {
          "model_module": "@jupyter-widgets/controls",
          "model_name": "ProgressStyleModel",
          "model_module_version": "1.5.0",
          "state": {
            "_model_module": "@jupyter-widgets/controls",
            "_model_module_version": "1.5.0",
            "_model_name": "ProgressStyleModel",
            "_view_count": null,
            "_view_module": "@jupyter-widgets/base",
            "_view_module_version": "1.2.0",
            "_view_name": "StyleView",
            "bar_color": null,
            "description_width": ""
          }
        },
        "9cb62d39f0154cad93fbf0b9e1b01cad": {
          "model_module": "@jupyter-widgets/base",
          "model_name": "LayoutModel",
          "model_module_version": "1.2.0",
          "state": {
            "_model_module": "@jupyter-widgets/base",
            "_model_module_version": "1.2.0",
            "_model_name": "LayoutModel",
            "_view_count": null,
            "_view_module": "@jupyter-widgets/base",
            "_view_module_version": "1.2.0",
            "_view_name": "LayoutView",
            "align_content": null,
            "align_items": null,
            "align_self": null,
            "border": null,
            "bottom": null,
            "display": null,
            "flex": null,
            "flex_flow": null,
            "grid_area": null,
            "grid_auto_columns": null,
            "grid_auto_flow": null,
            "grid_auto_rows": null,
            "grid_column": null,
            "grid_gap": null,
            "grid_row": null,
            "grid_template_areas": null,
            "grid_template_columns": null,
            "grid_template_rows": null,
            "height": null,
            "justify_content": null,
            "justify_items": null,
            "left": null,
            "margin": null,
            "max_height": null,
            "max_width": null,
            "min_height": null,
            "min_width": null,
            "object_fit": null,
            "object_position": null,
            "order": null,
            "overflow": null,
            "overflow_x": null,
            "overflow_y": null,
            "padding": null,
            "right": null,
            "top": null,
            "visibility": null,
            "width": null
          }
        },
        "166d2e0109224507ac982309b52b11a2": {
          "model_module": "@jupyter-widgets/controls",
          "model_name": "DescriptionStyleModel",
          "model_module_version": "1.5.0",
          "state": {
            "_model_module": "@jupyter-widgets/controls",
            "_model_module_version": "1.5.0",
            "_model_name": "DescriptionStyleModel",
            "_view_count": null,
            "_view_module": "@jupyter-widgets/base",
            "_view_module_version": "1.2.0",
            "_view_name": "StyleView",
            "description_width": ""
          }
        }
      }
    }
  },
  "cells": [
    {
      "cell_type": "markdown",
      "metadata": {
        "id": "view-in-github",
        "colab_type": "text"
      },
      "source": [
        "<a href=\"https://colab.research.google.com/github/OttmarIvey/MNIST-con-TensorFLow/blob/main/MNIST_con_TensorFlow.ipynb\" target=\"_parent\"><img src=\"https://colab.research.google.com/assets/colab-badge.svg\" alt=\"Open In Colab\"/></a>"
      ]
    },
    {
      "cell_type": "code",
      "execution_count": 1,
      "metadata": {
        "id": "XJzZkyTrKrb-"
      },
      "outputs": [],
      "source": [
        "import numpy as np\n",
        "import tensorflow as tf\n",
        "import tensorflow_datasets as tfds"
      ]
    },
    {
      "cell_type": "markdown",
      "source": [
        "### Cargamos el dataset de MNIST"
      ],
      "metadata": {
        "id": "3bCfIuNpLbzg"
      }
    },
    {
      "cell_type": "code",
      "source": [
        "mnist_dataset, mnist_info = tfds.load(name='mnist',with_info=True,as_supervised=True)"
      ],
      "metadata": {
        "colab": {
          "base_uri": "https://localhost:8080/",
          "height": 84,
          "referenced_widgets": [
            "782b0e3852db46249a234828af5475ee",
            "96938fe3bb0f41508db64f2d67c7461d",
            "386e53aa08a541b7a6fd678f75ccac97",
            "7c9fe190f2874070989745102a099c59",
            "8837e6a8cf95475a914f9e572bb13671",
            "122938c076324503821e98ad2705fc9f",
            "d4d7a91764f24502ac802008ba639572",
            "a032043cbf43450695692c92489105f4",
            "c8d67bb580474095955e73a5232a7b9b",
            "9cb62d39f0154cad93fbf0b9e1b01cad",
            "166d2e0109224507ac982309b52b11a2"
          ]
        },
        "id": "hzBPK5APK2bW",
        "outputId": "e7d51219-1659-435f-b16b-fe2c86316b44"
      },
      "execution_count": 2,
      "outputs": [
        {
          "output_type": "stream",
          "name": "stdout",
          "text": [
            "Downloading and preparing dataset 11.06 MiB (download: 11.06 MiB, generated: 21.00 MiB, total: 32.06 MiB) to /root/tensorflow_datasets/mnist/3.0.1...\n"
          ]
        },
        {
          "output_type": "display_data",
          "data": {
            "text/plain": [
              "Dl Completed...:   0%|          | 0/5 [00:00<?, ? file/s]"
            ],
            "application/vnd.jupyter.widget-view+json": {
              "version_major": 2,
              "version_minor": 0,
              "model_id": "782b0e3852db46249a234828af5475ee"
            }
          },
          "metadata": {}
        },
        {
          "output_type": "stream",
          "name": "stdout",
          "text": [
            "Dataset mnist downloaded and prepared to /root/tensorflow_datasets/mnist/3.0.1. Subsequent calls will reuse this data.\n"
          ]
        }
      ]
    },
    {
      "cell_type": "markdown",
      "source": [
        "# Preprocesamiento (permutacion y creacion de lotes)"
      ],
      "metadata": {
        "id": "UbOQJvzx48g7"
      }
    },
    {
      "cell_type": "code",
      "source": [
        "mnist_entrenamiento = mnist_dataset['train']\n",
        "mnist_prueba =  mnist_dataset['test']\n",
        "\n",
        "num_muestras_validacion = 0.1*mnist_info.splits['train'].num_examples #Extrae el 10% del dataset de prueba\n",
        "num_muestras_validacion = tf.cast(num_muestras_validacion,tf.int64) #Hacemos que el numero se4a un enetero\n",
        "\n",
        "num_muestras_prueba = mnist_info.splits['test'].num_examples #Guardamos el numero de muestras de prueba en una variable\n",
        "num_muestras_prueba = tf.cast(num_muestras_prueba,tf.int64) #Nos aseguramos de que sea un numero entero\n",
        "\n",
        "#Ahora creamos una funcion que escale las entradas entre 0 y 1\n",
        "\n",
        "def escala(image, label):\n",
        "  image = tf.cast(image,tf.float32) #Para que todos los numeros sean reales\n",
        "  image /=255. #Dividimos cada elemento de la imagen entre 255 ya que es el maximo valor que puede tener.\n",
        "  return image,label\n",
        "\n",
        "datos_escalados_entrenamiento_validacion = mnist_entrenamiento.map(escala)\n",
        "datos_prueba = mnist_prueba.map(escala)\n",
        "\n",
        "#Ahora vamos a permutar los datos del dataset MNIST aleatoriamente ya que es posible que este organizado de alguna forma.\n",
        "#lo cual confundira al modelo.\n",
        "\n",
        "BUFFER_SIZE = 10000\n",
        "\n",
        "datos_entrenamiento_validacion_permutados = datos_escalados_entrenamiento_validacion.shuffle(BUFFER_SIZE)\n",
        "\n",
        "datos_validacion = datos_entrenamiento_validacion_permutados.take(num_muestras_validacion) #Extraemos los datos de validacion\n",
        "\n",
        "datos_entrenamiento = datos_entrenamiento_validacion_permutados.skip(num_muestras_validacion) #Extraemos los datos de entrenamiento saltando los primeros datos de validacion\n",
        "\n",
        "\n",
        "#Crearemos los distintos lotes de entrenamiento, validacion y prueba\n",
        "# Un tamaño de lote igual a 1 corresponde al Descenso del gradiente Estocastico\n",
        "# Un tamaño igual al numero de muestras corresponde al Descenso del Gradiente\n",
        "# Un tamñao mayor a 1 y menor al numero de muestras corresponde al Descenso del Gradiente por mini lotes\n",
        "tamaño_lote = 100\n",
        "\n",
        "datos_entrenamiento = datos_entrenamiento.batch(tamaño_lote) #añade una nueva columna a nuestro tensor para que el alogritmo sepa cuantos datos tomar en cada lote\n",
        "datos_validacion = datos_validacion.batch(num_muestras_validacion) #Añade otra columna al tensor indicando que debe tomar todos los datos de validacion a la vez\n",
        "datos_prueba = datos_prueba.batch(num_muestras_prueba)\n",
        "\n",
        "\n",
        "#Ahora extraemos y convertimos las entradas y objetivos en la forma adecuada\n",
        "entradas_validacion, objetivos_validacion = next(iter(datos_validacion)) #next carga el siguiente elemento de un objetivo iterable\n"
      ],
      "metadata": {
        "id": "W2HNGAgiLD9v"
      },
      "execution_count": 100,
      "outputs": []
    },
    {
      "cell_type": "markdown",
      "source": [
        "# Modelo"
      ],
      "metadata": {
        "id": "-G3mnhiO5HVb"
      }
    },
    {
      "cell_type": "code",
      "source": [
        "#Tamaño de los hiperparametros\n",
        "tamaño_entrada = 784 #Hay 784 entradas en nuestra red\n",
        "tamaño_salida = 10 # 1 salida por cada digito\n",
        "tamaño_capa_oculta = 200 #Capas del modelo\n",
        "\n",
        "#Definimos el modelo\n",
        "modelo = tf.keras.Sequential(([\n",
        "\n",
        "                                #Cada observacion es de 28x28x1 (imagenes de 28x28 pixeles que corresponden a un numero del 0 al 9), por lo que es un tensor de rango 3\n",
        "                                # Con el metodo Faltten achatamos el tensor de rango tres para convertirlo en un vector\n",
        "                                #Esto nos permite crear una red neuronal de proalimentacion\n",
        "                                tf.keras.layers.Flatten(input_shape=(28,28,1)),\n",
        "\n",
        "                                #tf.keras.layers.Dense esta basicamente impplementando la operacion: salida = activation(dot(entradat,peso) + sesgo)\n",
        "                                tf.keras.layers.Dense(tamaño_capa_oculta,activation='relu'), #Primera capa oculta con la funcion de activacion ReLu\n",
        "                                tf.keras.layers.Dense(tamaño_capa_oculta,activation='tanh'), #Segunda capa oculta con la funcion de activacion TanH\n",
        "                                #tf.keras.layers.Dense(tamaño_capa_oculta,activation='sigmoid'), #Tercera capa oculta con la funcion de activacion sigmoide\n",
        "                                tf.keras.layers.Dense(tamaño_capa_oculta,activation='relu'), #Cuarta capa oculta\n",
        "                                tf.keras.layers.Dense(tamaño_capa_oculta,activation='relu'), #Quinta capa oculta\n",
        "\n",
        "                                #Capa de salida en valores de probabilidades\n",
        "                                tf.keras.layers.Dense(tamaño_salida,activation='softmax')\n",
        "\n",
        "                                ]))"
      ],
      "metadata": {
        "id": "1H0AZAXQ42-O"
      },
      "execution_count": 101,
      "outputs": []
    },
    {
      "cell_type": "markdown",
      "source": [
        "Como podemos ver en esta seccion donde definimos a nuestro modelo podemos agregarle tantas capas ocultas como queramos y definir las funciones de activacion que mejor se ajusten a nuestro modelo, en mi caso encontre que la funcion sigmoide no es la mas optima para este tipo de red nuronal."
      ],
      "metadata": {
        "id": "PGRYkcwlFM4Z"
      }
    },
    {
      "cell_type": "markdown",
      "source": [
        "## Optimizador y fucion de Perdida"
      ],
      "metadata": {
        "id": "vbtkHYS81-R0"
      }
    },
    {
      "cell_type": "code",
      "source": [
        " #Utilizaremos el optimizador adam \"Estimacion adaptativa del momentum\"\n",
        " #Utilizaremos la funcion de perdida \"Entropia cruzada categorica dispersa\" ya que aplica a los datos con codificacion one-hot\n",
        "modelo.compile(optimizer='adam',loss='sparse_categorical_crossentropy',metrics=['accuracy'])"
      ],
      "metadata": {
        "id": "WQf6-9sA19RQ"
      },
      "execution_count": 102,
      "outputs": []
    },
    {
      "cell_type": "markdown",
      "source": [
        "# Entrenamiento del modelo\n"
      ],
      "metadata": {
        "id": "T7Pxkg0a3MvC"
      }
    },
    {
      "cell_type": "code",
      "source": [
        "NUM_EPOCAS = 5\n",
        "modelo.fit(datos_entrenamiento, epochs=NUM_EPOCAS, validation_data=(entradas_validacion,objetivos_validacion),verbose=2)"
      ],
      "metadata": {
        "colab": {
          "base_uri": "https://localhost:8080/"
        },
        "id": "vyQNsI-i3Q-C",
        "outputId": "805e97e9-27c0-47c7-aa21-9adbc8adfce5"
      },
      "execution_count": 103,
      "outputs": [
        {
          "output_type": "stream",
          "name": "stdout",
          "text": [
            "Epoch 1/5\n",
            "540/540 - 8s - loss: 0.2472 - accuracy: 0.9248 - val_loss: 0.1071 - val_accuracy: 0.9675 - 8s/epoch - 16ms/step\n",
            "Epoch 2/5\n",
            "540/540 - 6s - loss: 0.1002 - accuracy: 0.9684 - val_loss: 0.0847 - val_accuracy: 0.9745 - 6s/epoch - 11ms/step\n",
            "Epoch 3/5\n",
            "540/540 - 6s - loss: 0.0707 - accuracy: 0.9781 - val_loss: 0.0635 - val_accuracy: 0.9798 - 6s/epoch - 11ms/step\n",
            "Epoch 4/5\n",
            "540/540 - 7s - loss: 0.0547 - accuracy: 0.9829 - val_loss: 0.0541 - val_accuracy: 0.9827 - 7s/epoch - 13ms/step\n",
            "Epoch 5/5\n",
            "540/540 - 6s - loss: 0.0478 - accuracy: 0.9850 - val_loss: 0.0535 - val_accuracy: 0.9838 - 6s/epoch - 10ms/step\n"
          ]
        },
        {
          "output_type": "execute_result",
          "data": {
            "text/plain": [
              "<keras.src.callbacks.History at 0x7abf2b6e88b0>"
            ]
          },
          "metadata": {},
          "execution_count": 103
        }
      ]
    },
    {
      "cell_type": "markdown",
      "source": [
        "Como es probable que hayamos sobreajustado el modelo ajustando los hiper parametros vamos a probar nuestro modelo con los datos de prueba"
      ],
      "metadata": {
        "id": "ImlVXYdCP_IO"
      }
    },
    {
      "cell_type": "markdown",
      "source": [
        "# Probando el modelo\n"
      ],
      "metadata": {
        "id": "Ox-ZctFNOl1n"
      }
    },
    {
      "cell_type": "code",
      "source": [
        "# .evaluate() da los valores de perdida y metrica para el modelo en modo de prueba\n",
        "perdida_prueba,presicion_prueba = modelo.evaluate(datos_prueba)"
      ],
      "metadata": {
        "colab": {
          "base_uri": "https://localhost:8080/"
        },
        "id": "0XWX8xRl4GUK",
        "outputId": "8b6516a8-d385-4397-c22e-29f7053dd9b8"
      },
      "execution_count": 104,
      "outputs": [
        {
          "output_type": "stream",
          "name": "stdout",
          "text": [
            "1/1 [==============================] - 2s 2s/step - loss: 0.0836 - accuracy: 0.9769\n"
          ]
        }
      ]
    },
    {
      "cell_type": "markdown",
      "source": [
        "Obtuvimos una presicion del 97.7% con nuestro modelo implementado a un conjunto de datos que hasta ahora, el modelo no \"conocia\" por lo que podemos decir que nuestro modelo es bastante bueno."
      ],
      "metadata": {
        "id": "YW0s9c2MQzkm"
      }
    },
    {
      "cell_type": "code",
      "source": [],
      "metadata": {
        "id": "Ew8DxC7XQjM1"
      },
      "execution_count": null,
      "outputs": []
    }
  ]
}